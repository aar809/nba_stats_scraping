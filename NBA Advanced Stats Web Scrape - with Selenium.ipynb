{
 "cells": [
  {
   "cell_type": "markdown",
   "id": "d650bdbd",
   "metadata": {},
   "source": [
    "## NBA Stats Web Scraping - with Selenium\n",
    "\n",
    "The idea of using Selenium (ontop of Beautiful Soup) to scrape webpages is due to the need to interact with some webpages, which is not something BS4 can do by itself.\n",
    "\n",
    "The example here involves NBA.com's Advanced Stats page, which requires some clicking on the screen to show all the players' advanced stats. (https://www.nba.com/stats/players/advanced/?sort=GP&dir=-1)\n",
    "\n",
    "<b>Data Source:</b> https://www.nba.com/stats/players/advanced/?sort=GP&dir=-1\n",
    "\n",
    "<b>Selenium Documentation:</b> https://www.selenium.dev/selenium/docs/api/py/index.html\n",
    "\n",
    "<b> Tutorial Credits:</b> Nick from 'Nick's Niche' Youtube channel (Full tutorial: https://www.youtube.com/watch?v=LLOJOPXA9PY&list=PLTUcfu017zJCI7ENgSEK2NjwKp_MJocVL&index=4) Thank you for the comprehensive video series!"
   ]
  },
  {
   "cell_type": "markdown",
   "id": "ee6f1e22",
   "metadata": {},
   "source": [
    "#### Installation instructions:\n",
    "Before you begin, pip install selenium, and then also install the correct web drivers from the Selenium site: https://www.selenium.dev/selenium/docs/api/py/index.html#drivers (under Drivers section).\n",
    "\n",
    "Install the appropriate version depending on browser & browser version, and place in correct folder path."
   ]
  },
  {
   "cell_type": "code",
   "execution_count": 74,
   "id": "5f9644ed",
   "metadata": {},
   "outputs": [
    {
     "name": "stderr",
     "output_type": "stream",
     "text": [
      "/var/folders/4_/d00l0kjx0d98bkwv29wwqzlm0000gn/T/ipykernel_19927/1236093473.py:14: DeprecationWarning: executable_path has been deprecated, please pass in a Service object\n",
      "  driver = webdriver.Chrome(cwd + '/chromedriver')\n"
     ]
    }
   ],
   "source": [
    "#Import relevant libraries\n",
    "from selenium import webdriver\n",
    "from selenium.webdriver.common.by import By\n",
    "from selenium.webdriver.common.keys import Keys\n",
    "from selenium.webdriver.support.ui import Select\n",
    "from bs4 import BeautifulSoup\n",
    "import pandas as pd\n",
    "import os\n",
    "\n",
    "#get current working directory file path from os library (optional)\n",
    "cwd = os.getcwd()\n",
    "\n",
    "#Create webdriver object with the path link pointing to where the driver exe file is located.\n",
    "driver = webdriver.Chrome(cwd + '/chromedriver')"
   ]
  },
  {
   "cell_type": "code",
   "execution_count": null,
   "id": "10df33fa",
   "metadata": {},
   "outputs": [],
   "source": [
    "#This block of code is just to test out that we can in fact navigate to Yahoo.com and search 'seleniumhq' in the search box.\n",
    "#(This was given as an example in the Selenium docs.)\n",
    "\n",
    "\"\"\"\n",
    "driver.get('http://www.yahoo.com')\n",
    "assert 'Yahoo' in driver.title\n",
    "elem = driver.find_element(By.NAME, 'p')  # Find the search box\n",
    "elem.send_keys('seleniumhq' + Keys.RETURN)\n",
    "browser.quit()\n",
    "\"\"\""
   ]
  },
  {
   "cell_type": "markdown",
   "id": "8d8a5c1b",
   "metadata": {},
   "source": [
    "------------------------"
   ]
  },
  {
   "cell_type": "code",
   "execution_count": 79,
   "id": "34dc60ab",
   "metadata": {},
   "outputs": [],
   "source": [
    "#Specify the interested URL - NBA.com's advanced stats page, and navigate to webpage with driver object.\n",
    "url = r\"https://www.nba.com/stats/players/advanced/?sort=GP&dir=-1\"\n",
    "driver.get(url)"
   ]
  },
  {
   "cell_type": "code",
   "execution_count": 81,
   "id": "a3447b7f",
   "metadata": {},
   "outputs": [
    {
     "name": "stderr",
     "output_type": "stream",
     "text": [
      "/var/folders/4_/d00l0kjx0d98bkwv29wwqzlm0000gn/T/ipykernel_19927/3189785701.py:4: DeprecationWarning: find_element_by_* commands are deprecated. Please use find_element() instead\n",
      "  page_button = Select(driver.find_element_by_xpath(r'/html/body/main/div/div/div[2]/div/div/nba-stat-table/div[1]/div/div/select'))\n"
     ]
    }
   ],
   "source": [
    "#Need to look for the xpath for 'Page' dropdown button, so Selenium can select Page -> All.\n",
    "#(Note we cannot perform this action with Beautiful Soup alone.)\n",
    "\n",
    "page_button = Select(driver.find_element_by_xpath(r'/html/body/main/div/div/div[2]/div/div/nba-stat-table/div[1]/div/div/select'))\n",
    "#Selenium selects the 1st item in the Page dropdown menu, which is 'All'.\n",
    "page_button.select_by_index(0)"
   ]
  },
  {
   "cell_type": "code",
   "execution_count": 82,
   "id": "a4f8b6b4",
   "metadata": {},
   "outputs": [],
   "source": [
    "#Now we can use our normal Beautiful Soup techniques to extract the data.\n",
    "src = driver.page_source\n",
    "parser = BeautifulSoup(src,'lxml')\n",
    "#after inspecting, identify the class name of the div = \"nba-stat-table__overflow\". This is the table.\n",
    "table = parser.find(\"div\", attrs = {\"class\":\"nba-stat-table__overflow\"})\n",
    "#headers is located inside the 'th' in the table\n",
    "headers = table.findAll('th')\n",
    "#Create headerlist by iterating through headers\n",
    "headerlist = [h.text.strip() for h in headers[1:]]"
   ]
  },
  {
   "cell_type": "code",
   "execution_count": 83,
   "id": "4a12986d",
   "metadata": {},
   "outputs": [],
   "source": [
    "#strip unwanted fields\n",
    "headerlist1 = [a for a in headerlist if not 'RANK' in a]\n",
    "#all data is located in the 'tr' tags\n",
    "rows = table.findAll('tr')[1:]\n",
    "#create the list of lists to contain all data for each player\n",
    "players_stats = [[td.getText().strip() for td in rows[i].findAll('td')[1:]] for i in range(len(rows))]"
   ]
  },
  {
   "cell_type": "code",
   "execution_count": 84,
   "id": "4dc73b43",
   "metadata": {},
   "outputs": [],
   "source": [
    "#strip out unwanted fields (need to match the headers exactly)\n",
    "headerlist1 = headerlist1[:-5]\n",
    "#create the Pandas DF object with players_stats and columns.\n",
    "stats = pd.DataFrame(players_stats, columns = headerlist1)"
   ]
  },
  {
   "cell_type": "code",
   "execution_count": 85,
   "id": "19f61ea9",
   "metadata": {},
   "outputs": [
    {
     "data": {
      "text/html": [
       "<div>\n",
       "<style scoped>\n",
       "    .dataframe tbody tr th:only-of-type {\n",
       "        vertical-align: middle;\n",
       "    }\n",
       "\n",
       "    .dataframe tbody tr th {\n",
       "        vertical-align: top;\n",
       "    }\n",
       "\n",
       "    .dataframe thead th {\n",
       "        text-align: right;\n",
       "    }\n",
       "</style>\n",
       "<table border=\"1\" class=\"dataframe\">\n",
       "  <thead>\n",
       "    <tr style=\"text-align: right;\">\n",
       "      <th></th>\n",
       "      <th>PLAYER</th>\n",
       "      <th>TEAM</th>\n",
       "      <th>AGE</th>\n",
       "      <th>GP</th>\n",
       "      <th>W</th>\n",
       "      <th>L</th>\n",
       "      <th>MIN</th>\n",
       "      <th>OFFRTG</th>\n",
       "      <th>DEFRTG</th>\n",
       "      <th>NETRTG</th>\n",
       "      <th>...</th>\n",
       "      <th>OREB%</th>\n",
       "      <th>DREB%</th>\n",
       "      <th>REB%</th>\n",
       "      <th>TO Ratio</th>\n",
       "      <th>eFG%</th>\n",
       "      <th>TS%</th>\n",
       "      <th>USG%</th>\n",
       "      <th>PACE</th>\n",
       "      <th>PIE</th>\n",
       "      <th>POSS</th>\n",
       "    </tr>\n",
       "  </thead>\n",
       "  <tbody>\n",
       "    <tr>\n",
       "      <th>0</th>\n",
       "      <td>Domantas Sabonis</td>\n",
       "      <td>IND</td>\n",
       "      <td>25</td>\n",
       "      <td>29</td>\n",
       "      <td>12</td>\n",
       "      <td>17</td>\n",
       "      <td>34.2</td>\n",
       "      <td>108.8</td>\n",
       "      <td>104.2</td>\n",
       "      <td>4.6</td>\n",
       "      <td>...</td>\n",
       "      <td>9.5</td>\n",
       "      <td>24.5</td>\n",
       "      <td>17.0</td>\n",
       "      <td>13.9</td>\n",
       "      <td>62.2</td>\n",
       "      <td>65.6</td>\n",
       "      <td>21.3</td>\n",
       "      <td>98.12</td>\n",
       "      <td>16.6</td>\n",
       "      <td>2,031</td>\n",
       "    </tr>\n",
       "    <tr>\n",
       "      <th>1</th>\n",
       "      <td>Gordon Hayward</td>\n",
       "      <td>CHA</td>\n",
       "      <td>31</td>\n",
       "      <td>29</td>\n",
       "      <td>15</td>\n",
       "      <td>14</td>\n",
       "      <td>34.5</td>\n",
       "      <td>111.5</td>\n",
       "      <td>112.1</td>\n",
       "      <td>-0.6</td>\n",
       "      <td>...</td>\n",
       "      <td>2.4</td>\n",
       "      <td>11.2</td>\n",
       "      <td>6.7</td>\n",
       "      <td>8.9</td>\n",
       "      <td>51.9</td>\n",
       "      <td>57.2</td>\n",
       "      <td>20.9</td>\n",
       "      <td>103.15</td>\n",
       "      <td>10.2</td>\n",
       "      <td>2,144</td>\n",
       "    </tr>\n",
       "    <tr>\n",
       "      <th>2</th>\n",
       "      <td>Jonas Valanciunas</td>\n",
       "      <td>NOP</td>\n",
       "      <td>29</td>\n",
       "      <td>29</td>\n",
       "      <td>8</td>\n",
       "      <td>21</td>\n",
       "      <td>31.2</td>\n",
       "      <td>106.0</td>\n",
       "      <td>111.3</td>\n",
       "      <td>-5.3</td>\n",
       "      <td>...</td>\n",
       "      <td>10.4</td>\n",
       "      <td>27.8</td>\n",
       "      <td>18.6</td>\n",
       "      <td>10.5</td>\n",
       "      <td>55.4</td>\n",
       "      <td>59.5</td>\n",
       "      <td>24.4</td>\n",
       "      <td>97.43</td>\n",
       "      <td>15.8</td>\n",
       "      <td>1,836</td>\n",
       "    </tr>\n",
       "    <tr>\n",
       "      <th>3</th>\n",
       "      <td>Kelly Oubre Jr.</td>\n",
       "      <td>CHA</td>\n",
       "      <td>26</td>\n",
       "      <td>29</td>\n",
       "      <td>15</td>\n",
       "      <td>14</td>\n",
       "      <td>29.5</td>\n",
       "      <td>112.9</td>\n",
       "      <td>113.9</td>\n",
       "      <td>-1.0</td>\n",
       "      <td>...</td>\n",
       "      <td>3.9</td>\n",
       "      <td>9.5</td>\n",
       "      <td>6.7</td>\n",
       "      <td>6.3</td>\n",
       "      <td>57.3</td>\n",
       "      <td>58.2</td>\n",
       "      <td>22.2</td>\n",
       "      <td>100.80</td>\n",
       "      <td>9.1</td>\n",
       "      <td>1,791</td>\n",
       "    </tr>\n",
       "    <tr>\n",
       "      <th>4</th>\n",
       "      <td>Miles Bridges</td>\n",
       "      <td>CHA</td>\n",
       "      <td>23</td>\n",
       "      <td>29</td>\n",
       "      <td>15</td>\n",
       "      <td>14</td>\n",
       "      <td>36.7</td>\n",
       "      <td>113.0</td>\n",
       "      <td>111.2</td>\n",
       "      <td>1.7</td>\n",
       "      <td>...</td>\n",
       "      <td>3.3</td>\n",
       "      <td>15.7</td>\n",
       "      <td>9.4</td>\n",
       "      <td>8.4</td>\n",
       "      <td>52.9</td>\n",
       "      <td>56.4</td>\n",
       "      <td>22.2</td>\n",
       "      <td>101.63</td>\n",
       "      <td>11.0</td>\n",
       "      <td>2,253</td>\n",
       "    </tr>\n",
       "  </tbody>\n",
       "</table>\n",
       "<p>5 rows × 23 columns</p>\n",
       "</div>"
      ],
      "text/plain": [
       "              PLAYER TEAM AGE  GP   W   L   MIN OFFRTG DEFRTG NETRTG  ...  \\\n",
       "0   Domantas Sabonis  IND  25  29  12  17  34.2  108.8  104.2    4.6  ...   \n",
       "1     Gordon Hayward  CHA  31  29  15  14  34.5  111.5  112.1   -0.6  ...   \n",
       "2  Jonas Valanciunas  NOP  29  29   8  21  31.2  106.0  111.3   -5.3  ...   \n",
       "3    Kelly Oubre Jr.  CHA  26  29  15  14  29.5  112.9  113.9   -1.0  ...   \n",
       "4      Miles Bridges  CHA  23  29  15  14  36.7  113.0  111.2    1.7  ...   \n",
       "\n",
       "  OREB% DREB%  REB% TO Ratio  eFG%   TS%  USG%    PACE   PIE   POSS  \n",
       "0   9.5  24.5  17.0     13.9  62.2  65.6  21.3   98.12  16.6  2,031  \n",
       "1   2.4  11.2   6.7      8.9  51.9  57.2  20.9  103.15  10.2  2,144  \n",
       "2  10.4  27.8  18.6     10.5  55.4  59.5  24.4   97.43  15.8  1,836  \n",
       "3   3.9   9.5   6.7      6.3  57.3  58.2  22.2  100.80   9.1  1,791  \n",
       "4   3.3  15.7   9.4      8.4  52.9  56.4  22.2  101.63  11.0  2,253  \n",
       "\n",
       "[5 rows x 23 columns]"
      ]
     },
     "execution_count": 85,
     "metadata": {},
     "output_type": "execute_result"
    }
   ],
   "source": [
    "#Result (first 5 columns o)\n",
    "stats.head()"
   ]
  },
  {
   "cell_type": "code",
   "execution_count": 48,
   "id": "991a6df4",
   "metadata": {},
   "outputs": [],
   "source": [
    "#Export to Excel\n",
    "pd.DataFrame.to_excel(stats, \"202122_advanced_stats.xlsx\", index=False)"
   ]
  }
 ],
 "metadata": {
  "kernelspec": {
   "display_name": "Python 3 (ipykernel)",
   "language": "python",
   "name": "python3"
  },
  "language_info": {
   "codemirror_mode": {
    "name": "ipython",
    "version": 3
   },
   "file_extension": ".py",
   "mimetype": "text/x-python",
   "name": "python",
   "nbconvert_exporter": "python",
   "pygments_lexer": "ipython3",
   "version": "3.9.7"
  }
 },
 "nbformat": 4,
 "nbformat_minor": 5
}
