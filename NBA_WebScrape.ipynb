{
 "cells": [
  {
   "cell_type": "markdown",
   "id": "d0d5d97b",
   "metadata": {},
   "source": [
    "### NBA Stats Web Scraping\n",
    "This notebook shows how to extract data/stats from sites like basketball_reference.com, using python's bs4 (BeautifulSoup) module, and convert to Pandas DF, and then output to Excel format.\n",
    "\n",
    "<b>Source:</b> https://www.basketball-reference.com/leagues/NBA_2022_per_game.html\n",
    "\n",
    "<b>Beautiful Soup documentation:</b> https://www.crummy.com/software/BeautifulSoup/bs4/doc/\n",
    "\n",
    "<b> Credits: </b> Nick from 'Nick's Niche' Youtube channel \n",
    "(Full tutorial: https://www.youtube.com/watch?v=LLOJOPXA9PY&list=PLTUcfu017zJCI7ENgSEK2NjwKp_MJocVL&index=4)\n",
    "Thank you for the comprehensive video series!"
   ]
  },
  {
   "cell_type": "code",
   "execution_count": 1,
   "id": "2184724c",
   "metadata": {},
   "outputs": [],
   "source": [
    "#Import all relevant libraries\n",
    "from bs4 import BeautifulSoup\n",
    "import requests\n",
    "import pandas as pd\n",
    "import openpyxl"
   ]
  },
  {
   "cell_type": "code",
   "execution_count": 3,
   "id": "c1ca14fe",
   "metadata": {},
   "outputs": [],
   "source": [
    "url = r\"https://www.basketball-reference.com/leagues/NBA_2022_per_game.html\"\n",
    "source = requests.get(url)     # gets Page Source\n",
    "soup = BeautifulSoup(source.content, 'lxml') "
   ]
  },
  {
   "cell_type": "markdown",
   "id": "02186989",
   "metadata": {},
   "source": [
    "Next, we need to explore the page's page source manually to identify which HTML element we want to scrape. We do this by right-click, and 'inspecting' the webpage. \n",
    "\n",
    "In this case, we want the data elements in the Table, which resides inside each 'tr' tags (table row)."
   ]
  },
  {
   "cell_type": "code",
   "execution_count": 22,
   "id": "49038dc6",
   "metadata": {},
   "outputs": [],
   "source": [
    "#Use the findAll method to find the first 2 'tr' elements. Only for sanity-checking\n",
    "# soup.findAll('tr', limit=2)"
   ]
  },
  {
   "cell_type": "code",
   "execution_count": 7,
   "id": "b933db56",
   "metadata": {},
   "outputs": [],
   "source": [
    "#create the data header list by extracting the values from the 1st 'tr' element of the table.\n",
    "header = [th.getText() for th in soup.findAll('tr', limit=1)[0].findAll('th')]\n",
    "#remove the 1st column (Rank), as we don't need it\n",
    "header = header[1:]"
   ]
  },
  {
   "cell_type": "code",
   "execution_count": 11,
   "id": "8b9280a8",
   "metadata": {},
   "outputs": [],
   "source": [
    "#After creating the header, create a 'rows' variable to store all the other rows, which contains the data for each player.\n",
    "rows = soup.findAll('tr')[1:]"
   ]
  },
  {
   "cell_type": "code",
   "execution_count": 12,
   "id": "9455dca9",
   "metadata": {},
   "outputs": [],
   "source": [
    "#Convert this object into list-of-list format, in order to be ready to be converted to pd.DataFrame() format.\n",
    "player_stats = [[td.getText() for td in rows[i].findAll('td')] for i in range(len(rows))]"
   ]
  },
  {
   "cell_type": "code",
   "execution_count": 16,
   "id": "78f7e916",
   "metadata": {},
   "outputs": [
    {
     "data": {
      "text/plain": [
       "['Precious Achiuwa',\n",
       " 'C',\n",
       " '22',\n",
       " 'TOR',\n",
       " '21',\n",
       " '17',\n",
       " '26.5',\n",
       " '3.4',\n",
       " '8.8',\n",
       " '.386',\n",
       " '0.3',\n",
       " '1.2',\n",
       " '.269',\n",
       " '3.0',\n",
       " '7.5',\n",
       " '.405',\n",
       " '.405',\n",
       " '0.9',\n",
       " '1.7',\n",
       " '.543',\n",
       " '2.3',\n",
       " '5.9',\n",
       " '8.2',\n",
       " '1.6',\n",
       " '0.5',\n",
       " '0.6',\n",
       " '1.1',\n",
       " '2.5',\n",
       " '8.0']"
      ]
     },
     "execution_count": 16,
     "metadata": {},
     "output_type": "execute_result"
    }
   ],
   "source": [
    "#Check the 1st row of player_stats to ensure data for the 1st player displays correctly (sanity-check)\n",
    "player_stats[0]"
   ]
  },
  {
   "cell_type": "code",
   "execution_count": 19,
   "id": "25e1a96c",
   "metadata": {},
   "outputs": [
    {
     "data": {
      "text/html": [
       "<div>\n",
       "<style scoped>\n",
       "    .dataframe tbody tr th:only-of-type {\n",
       "        vertical-align: middle;\n",
       "    }\n",
       "\n",
       "    .dataframe tbody tr th {\n",
       "        vertical-align: top;\n",
       "    }\n",
       "\n",
       "    .dataframe thead th {\n",
       "        text-align: right;\n",
       "    }\n",
       "</style>\n",
       "<table border=\"1\" class=\"dataframe\">\n",
       "  <thead>\n",
       "    <tr style=\"text-align: right;\">\n",
       "      <th></th>\n",
       "      <th>Player</th>\n",
       "      <th>Pos</th>\n",
       "      <th>Age</th>\n",
       "      <th>Tm</th>\n",
       "      <th>G</th>\n",
       "      <th>GS</th>\n",
       "      <th>MP</th>\n",
       "      <th>FG</th>\n",
       "      <th>FGA</th>\n",
       "      <th>FG%</th>\n",
       "      <th>...</th>\n",
       "      <th>FT%</th>\n",
       "      <th>ORB</th>\n",
       "      <th>DRB</th>\n",
       "      <th>TRB</th>\n",
       "      <th>AST</th>\n",
       "      <th>STL</th>\n",
       "      <th>BLK</th>\n",
       "      <th>TOV</th>\n",
       "      <th>PF</th>\n",
       "      <th>PTS</th>\n",
       "    </tr>\n",
       "  </thead>\n",
       "  <tbody>\n",
       "    <tr>\n",
       "      <th>0</th>\n",
       "      <td>Precious Achiuwa</td>\n",
       "      <td>C</td>\n",
       "      <td>22</td>\n",
       "      <td>TOR</td>\n",
       "      <td>21</td>\n",
       "      <td>17</td>\n",
       "      <td>26.5</td>\n",
       "      <td>3.4</td>\n",
       "      <td>8.8</td>\n",
       "      <td>.386</td>\n",
       "      <td>...</td>\n",
       "      <td>.543</td>\n",
       "      <td>2.3</td>\n",
       "      <td>5.9</td>\n",
       "      <td>8.2</td>\n",
       "      <td>1.6</td>\n",
       "      <td>0.5</td>\n",
       "      <td>0.6</td>\n",
       "      <td>1.1</td>\n",
       "      <td>2.5</td>\n",
       "      <td>8.0</td>\n",
       "    </tr>\n",
       "    <tr>\n",
       "      <th>1</th>\n",
       "      <td>Steven Adams</td>\n",
       "      <td>C</td>\n",
       "      <td>28</td>\n",
       "      <td>MEM</td>\n",
       "      <td>28</td>\n",
       "      <td>28</td>\n",
       "      <td>24.8</td>\n",
       "      <td>2.6</td>\n",
       "      <td>4.9</td>\n",
       "      <td>.529</td>\n",
       "      <td>...</td>\n",
       "      <td>.610</td>\n",
       "      <td>3.8</td>\n",
       "      <td>4.8</td>\n",
       "      <td>8.6</td>\n",
       "      <td>2.6</td>\n",
       "      <td>0.8</td>\n",
       "      <td>0.6</td>\n",
       "      <td>1.7</td>\n",
       "      <td>1.6</td>\n",
       "      <td>6.9</td>\n",
       "    </tr>\n",
       "    <tr>\n",
       "      <th>2</th>\n",
       "      <td>Bam Adebayo</td>\n",
       "      <td>C</td>\n",
       "      <td>24</td>\n",
       "      <td>MIA</td>\n",
       "      <td>18</td>\n",
       "      <td>18</td>\n",
       "      <td>32.9</td>\n",
       "      <td>7.0</td>\n",
       "      <td>13.5</td>\n",
       "      <td>.519</td>\n",
       "      <td>...</td>\n",
       "      <td>.759</td>\n",
       "      <td>2.7</td>\n",
       "      <td>7.4</td>\n",
       "      <td>10.2</td>\n",
       "      <td>3.2</td>\n",
       "      <td>1.1</td>\n",
       "      <td>0.3</td>\n",
       "      <td>2.9</td>\n",
       "      <td>3.3</td>\n",
       "      <td>18.7</td>\n",
       "    </tr>\n",
       "    <tr>\n",
       "      <th>3</th>\n",
       "      <td>Santi Aldama</td>\n",
       "      <td>PF</td>\n",
       "      <td>21</td>\n",
       "      <td>MEM</td>\n",
       "      <td>16</td>\n",
       "      <td>0</td>\n",
       "      <td>9.8</td>\n",
       "      <td>1.5</td>\n",
       "      <td>4.1</td>\n",
       "      <td>.364</td>\n",
       "      <td>...</td>\n",
       "      <td>.583</td>\n",
       "      <td>1.0</td>\n",
       "      <td>1.6</td>\n",
       "      <td>2.6</td>\n",
       "      <td>0.8</td>\n",
       "      <td>0.1</td>\n",
       "      <td>0.2</td>\n",
       "      <td>0.3</td>\n",
       "      <td>1.1</td>\n",
       "      <td>3.6</td>\n",
       "    </tr>\n",
       "    <tr>\n",
       "      <th>4</th>\n",
       "      <td>LaMarcus Aldridge</td>\n",
       "      <td>C</td>\n",
       "      <td>36</td>\n",
       "      <td>BRK</td>\n",
       "      <td>25</td>\n",
       "      <td>8</td>\n",
       "      <td>23.6</td>\n",
       "      <td>6.0</td>\n",
       "      <td>10.4</td>\n",
       "      <td>.573</td>\n",
       "      <td>...</td>\n",
       "      <td>.833</td>\n",
       "      <td>1.4</td>\n",
       "      <td>4.3</td>\n",
       "      <td>5.7</td>\n",
       "      <td>0.9</td>\n",
       "      <td>0.4</td>\n",
       "      <td>1.2</td>\n",
       "      <td>0.8</td>\n",
       "      <td>1.7</td>\n",
       "      <td>14.0</td>\n",
       "    </tr>\n",
       "  </tbody>\n",
       "</table>\n",
       "<p>5 rows × 29 columns</p>\n",
       "</div>"
      ],
      "text/plain": [
       "              Player Pos Age   Tm   G  GS    MP   FG   FGA   FG%  ...   FT%  \\\n",
       "0   Precious Achiuwa   C  22  TOR  21  17  26.5  3.4   8.8  .386  ...  .543   \n",
       "1       Steven Adams   C  28  MEM  28  28  24.8  2.6   4.9  .529  ...  .610   \n",
       "2        Bam Adebayo   C  24  MIA  18  18  32.9  7.0  13.5  .519  ...  .759   \n",
       "3       Santi Aldama  PF  21  MEM  16   0   9.8  1.5   4.1  .364  ...  .583   \n",
       "4  LaMarcus Aldridge   C  36  BRK  25   8  23.6  6.0  10.4  .573  ...  .833   \n",
       "\n",
       "   ORB  DRB   TRB  AST  STL  BLK  TOV   PF   PTS  \n",
       "0  2.3  5.9   8.2  1.6  0.5  0.6  1.1  2.5   8.0  \n",
       "1  3.8  4.8   8.6  2.6  0.8  0.6  1.7  1.6   6.9  \n",
       "2  2.7  7.4  10.2  3.2  1.1  0.3  2.9  3.3  18.7  \n",
       "3  1.0  1.6   2.6  0.8  0.1  0.2  0.3  1.1   3.6  \n",
       "4  1.4  4.3   5.7  0.9  0.4  1.2  0.8  1.7  14.0  \n",
       "\n",
       "[5 rows x 29 columns]"
      ]
     },
     "execution_count": 19,
     "metadata": {},
     "output_type": "execute_result"
    }
   ],
   "source": [
    "#Create the Pandas DF using the above 'player_stats' and 'header' objects, and check first 5 rows.\n",
    "stats = pd.DataFrame(player_stats, columns = header)\n",
    "stats.head()"
   ]
  },
  {
   "cell_type": "markdown",
   "id": "7f98d299",
   "metadata": {},
   "source": [
    "Now that we have this data in a Pandas DF format, there are many methods and techniques we can apply to analyze the data thoroughly.\n",
    "\n",
    "Otherwise, we can export to Excel to perform basic ETL and analysis as well."
   ]
  },
  {
   "cell_type": "code",
   "execution_count": 21,
   "id": "befd8703",
   "metadata": {},
   "outputs": [],
   "source": [
    "#Export to Excel. Can specify output path and file name.\n",
    "pd.DataFrame.to_excel(stats, \"NBA_Stats_2021_2022.xlsx\", index=False)"
   ]
  },
  {
   "cell_type": "markdown",
   "id": "051eaf18",
   "metadata": {},
   "source": [
    "Again, credits go out to <b>Nick from 'Nick's Niche'</b> youtube channel. Please check out his full tutorial at https://www.youtube.com/watch?v=LLOJOPXA9PY&list=PLTUcfu017zJCI7ENgSEK2NjwKp_MJocVL&index=4. "
   ]
  }
 ],
 "metadata": {
  "kernelspec": {
   "display_name": "Python 3 (ipykernel)",
   "language": "python",
   "name": "python3"
  },
  "language_info": {
   "codemirror_mode": {
    "name": "ipython",
    "version": 3
   },
   "file_extension": ".py",
   "mimetype": "text/x-python",
   "name": "python",
   "nbconvert_exporter": "python",
   "pygments_lexer": "ipython3",
   "version": "3.9.7"
  }
 },
 "nbformat": 4,
 "nbformat_minor": 5
}
